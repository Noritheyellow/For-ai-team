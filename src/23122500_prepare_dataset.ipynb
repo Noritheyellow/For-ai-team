{
 "cells": [
  {
   "attachments": {},
   "cell_type": "markdown",
   "metadata": {},
   "source": [
    "# MIMIC-III WFDB dataset\n",
    "\n",
    "PhysioNet 에서 제공하는 데이터를 확보하고 데이터를 확인하는 단계이다.\n",
    "\n",
    "**Output:** `/root/Workspace/DataWarehouse/mimic-iii_wfdb/all_patient_records.pickle.gzip`\n",
    "- 모든 환자의 record_name 들을 갖고 있는 List 파일이다."
   ]
  },
  {
   "cell_type": "code",
   "execution_count": 1,
   "metadata": {},
   "outputs": [],
   "source": [
    "import os\n",
    "import pickle\n",
    "import gzip\n",
    "import re\n",
    "import multiprocessing\n",
    "import wfdb\n",
    "import matplotlib.pyplot as plt\n",
    "\n",
    "%matplotlib inline\n",
    "plt.style.use('ggplot')\n",
    "\n",
    "CDB_PATH = '/root/Workspace/DataLake/mimic-iii_cdb/files/mimiciii/1.4/'\n",
    "WFDB_PATH = '/root/Workspace/DataLake/mimic-iii_wfdb/'"
   ]
  },
  {
   "cell_type": "code",
   "execution_count": 2,
   "metadata": {},
   "outputs": [],
   "source": [
    "def get_depth(path):\n",
    "    return len(path.split('/'))\n",
    "\n",
    "\n",
    "def list_subdir(path):\n",
    "    return [file.path for file in os.scandir(path) if file.is_dir()]\n",
    "\n",
    "\n",
    "def list_record(path, re_expression):\n",
    "    regex = re.compile(re_expression)\n",
    "    return [file.path for file in os.scandir(path) if regex.match(file.path.split(path+'/').pop()) != None]"
   ]
  },
  {
   "cell_type": "code",
   "execution_count": 3,
   "metadata": {},
   "outputs": [],
   "source": [
    "sub_dir = list_subdir(WFDB_PATH) "
   ]
  },
  {
   "cell_type": "code",
   "execution_count": 4,
   "metadata": {},
   "outputs": [],
   "source": [
    "def test(dirpath):\n",
    "    patient_records = []\n",
    "    # for entry in os.walk(sub_dir[0]):\n",
    "    for entry in os.walk(dirpath):\n",
    "        path, _, _ = entry\n",
    "        if get_depth(path) > 6:\n",
    "            patient_records.append(list_record(path, 'p[0-9]{6}-[0-9]{4}[0-9\\-]+n?.hea'))\n",
    "\n",
    "    return patient_records\n",
    "\n",
    "# sub_dir 0부터 9 까지를 전부 비동기적으로 돌리면 어떨까?"
   ]
  },
  {
   "cell_type": "code",
   "execution_count": 5,
   "metadata": {},
   "outputs": [],
   "source": [
    "pool = multiprocessing.Pool(processes=10)\n",
    "records = pool.map(test, sub_dir)\n",
    "pool.close()\n",
    "pool.join()\n",
    "# records2 = [test(sub_dir[i]) for i in range(len(sub_dir))]\n",
    "# len(records2[0])"
   ]
  },
  {
   "attachments": {},
   "cell_type": "markdown",
   "metadata": {},
   "source": [
    "#### Verification\n",
    "- default time spent: 6m 47.8s\n",
    "- multiprocessing time spent: 4m 32s\n",
    "- total count: 10282, icu records\n",
    "    - dir_0: 1244\n",
    "    - dir_1: 1171\n",
    "    - dir_2: 1179\n",
    "    - dir_3: 255\n",
    "    - dir_4: 1070\n",
    "    - dir_5: 1084\n",
    "    - dir_6: 1087\n",
    "    - dir_7: 1029\n",
    "    - dir_8: 1081\n",
    "    - dir_9: 1082"
   ]
  },
  {
   "attachments": {},
   "cell_type": "markdown",
   "metadata": {},
   "source": [
    "Record 는 전체 데이터를 의미한다.\n",
    "\n",
    "Header 는 Record 의 헤더 데이터만을 의미한다.\n",
    "\n",
    "Multi-segment 는 한 환자 내의 Record 가 여러 파일로 쪼개진 것들을 의미한다.\n",
    "\n",
    "Sample 은 Record 와 동일하게 signal 과 field 를 가져오지만 좀 더 단순화/간편화 되었다.\n",
    "\n",
    "전체 디렉터리는 10,282 개이다.\n",
    "\n",
    "> https://github.com/MIT-LCP/wfdb-python/blob/main/demo.ipynb 참고"
   ]
  },
  {
   "cell_type": "code",
   "execution_count": 6,
   "metadata": {},
   "outputs": [
    {
     "data": {
      "text/plain": [
       "'/root/Workspace/DataLake/mimic-iii_wfdb/p00/p000109/p000109-2141-10-21-02-00'"
      ]
     },
     "execution_count": 6,
     "metadata": {},
     "output_type": "execute_result"
    }
   ],
   "source": [
    "records[0][7][0][:-4]"
   ]
  },
  {
   "cell_type": "code",
   "execution_count": 7,
   "metadata": {},
   "outputs": [
    {
     "ename": "KeyboardInterrupt",
     "evalue": "",
     "output_type": "error",
     "traceback": [
      "\u001b[0;31m---------------------------------------------------------------------------\u001b[0m",
      "\u001b[0;31mKeyboardInterrupt\u001b[0m                         Traceback (most recent call last)",
      "\u001b[1;32m/root/Workspace/For-ai-team/src/23122500_prepare_dataset.ipynb Cell 10\u001b[0m line \u001b[0;36m2\n\u001b[1;32m      <a href='vscode-notebook-cell://attached-container%2B7b22636f6e7461696e65724e616d65223a222f706c616d696e676f6c61622d677075222c2273657474696e6773223a7b22686f7374223a227373683a2f2f3132352e3132392e3134302e313437227d7d/root/Workspace/For-ai-team/src/23122500_prepare_dataset.ipynb#X12sdnNjb2RlLXJlbW90ZQ%3D%3D?line=0'>1</a>\u001b[0m signals, fields \u001b[39m=\u001b[39m wfdb\u001b[39m.\u001b[39mrdsamp(records[\u001b[39m0\u001b[39m][\u001b[39m7\u001b[39m][\u001b[39m0\u001b[39m][:\u001b[39m-\u001b[39m\u001b[39m4\u001b[39m])\n\u001b[0;32m----> <a href='vscode-notebook-cell://attached-container%2B7b22636f6e7461696e65724e616d65223a222f706c616d696e676f6c61622d677075222c2273657474696e6773223a7b22686f7374223a227373683a2f2f3132352e3132392e3134302e313437227d7d/root/Workspace/For-ai-team/src/23122500_prepare_dataset.ipynb#X12sdnNjb2RlLXJlbW90ZQ%3D%3D?line=1'>2</a>\u001b[0m wfdb\u001b[39m.\u001b[39;49mplot_items(signal\u001b[39m=\u001b[39;49msignals, fs\u001b[39m=\u001b[39;49mfields[\u001b[39m'\u001b[39;49m\u001b[39mfs\u001b[39;49m\u001b[39m'\u001b[39;49m], title\u001b[39m=\u001b[39;49m\u001b[39m'\u001b[39;49m\u001b[39mRecord p000109-2141-10-21-02-00\u001b[39;49m\u001b[39m'\u001b[39;49m)\n\u001b[1;32m      <a href='vscode-notebook-cell://attached-container%2B7b22636f6e7461696e65724e616d65223a222f706c616d696e676f6c61622d677075222c2273657474696e6773223a7b22686f7374223a227373683a2f2f3132352e3132392e3134302e313437227d7d/root/Workspace/For-ai-team/src/23122500_prepare_dataset.ipynb#X12sdnNjb2RlLXJlbW90ZQ%3D%3D?line=2'>3</a>\u001b[0m display(signals, fields)\n\u001b[1;32m      <a href='vscode-notebook-cell://attached-container%2B7b22636f6e7461696e65724e616d65223a222f706c616d696e676f6c61622d677075222c2273657474696e6773223a7b22686f7374223a227373683a2f2f3132352e3132392e3134302e313437227d7d/root/Workspace/For-ai-team/src/23122500_prepare_dataset.ipynb#X12sdnNjb2RlLXJlbW90ZQ%3D%3D?line=4'>5</a>\u001b[0m display(wfdb\u001b[39m.\u001b[39mrdheader(\u001b[39m'\u001b[39m\u001b[39m/root/Workspace/DataLake/mimic-iii_wfdb/p00/p000109/p000109-2141-10-21-02-00\u001b[39m\u001b[39m'\u001b[39m)\u001b[39m.\u001b[39m\u001b[39m__dict__\u001b[39m)\n",
      "File \u001b[0;32m/usr/local/lib/python3.10/dist-packages/wfdb/plot/plot.py:261\u001b[0m, in \u001b[0;36mplot_items\u001b[0;34m(signal, ann_samp, ann_sym, fs, time_units, sig_name, sig_units, xlabel, ylabel, title, sig_style, ann_style, ecg_grids, figsize, sharex, sharey, return_fig, return_fig_axes, sampling_freq, ann_freq)\u001b[0m\n\u001b[1;32m    259\u001b[0m \u001b[39mtry\u001b[39;00m:\n\u001b[1;32m    260\u001b[0m     \u001b[39mif\u001b[39;00m signal \u001b[39mis\u001b[39;00m \u001b[39mnot\u001b[39;00m \u001b[39mNone\u001b[39;00m:\n\u001b[0;32m--> 261\u001b[0m         _plot_signal(\n\u001b[1;32m    262\u001b[0m             signal,\n\u001b[1;32m    263\u001b[0m             sig_len,\n\u001b[1;32m    264\u001b[0m             n_sig,\n\u001b[1;32m    265\u001b[0m             fs,\n\u001b[1;32m    266\u001b[0m             time_units,\n\u001b[1;32m    267\u001b[0m             sig_style,\n\u001b[1;32m    268\u001b[0m             axes,\n\u001b[1;32m    269\u001b[0m             sampling_freq\u001b[39m=\u001b[39;49msampling_freq,\n\u001b[1;32m    270\u001b[0m         )\n\u001b[1;32m    272\u001b[0m     \u001b[39mif\u001b[39;00m ann_samp \u001b[39mis\u001b[39;00m \u001b[39mnot\u001b[39;00m \u001b[39mNone\u001b[39;00m:\n\u001b[1;32m    273\u001b[0m         _plot_annotation(\n\u001b[1;32m    274\u001b[0m             ann_samp,\n\u001b[1;32m    275\u001b[0m             n_annot,\n\u001b[0;32m   (...)\u001b[0m\n\u001b[1;32m    284\u001b[0m             ann_freq\u001b[39m=\u001b[39mann_freq,\n\u001b[1;32m    285\u001b[0m         )\n",
      "File \u001b[0;32m/usr/local/lib/python3.10/dist-packages/wfdb/plot/plot.py:502\u001b[0m, in \u001b[0;36m_plot_signal\u001b[0;34m(signal, sig_len, n_sig, fs, time_units, sig_style, axes, sampling_freq)\u001b[0m\n\u001b[1;32m    499\u001b[0m         t \u001b[39m/\u001b[39m\u001b[39m=\u001b[39m downsample_factor[time_units]\n\u001b[1;32m    500\u001b[0m     tarrays[ch_len, ch_freq] \u001b[39m=\u001b[39m t\n\u001b[0;32m--> 502\u001b[0m axes[ch]\u001b[39m.\u001b[39;49mplot(t, signal[ch], sig_style[ch], zorder\u001b[39m=\u001b[39;49m\u001b[39m3\u001b[39;49m)\n",
      "File \u001b[0;32m/usr/local/lib/python3.10/dist-packages/matplotlib/axes/_axes.py:1690\u001b[0m, in \u001b[0;36mAxes.plot\u001b[0;34m(self, scalex, scaley, data, *args, **kwargs)\u001b[0m\n\u001b[1;32m   1688\u001b[0m lines \u001b[39m=\u001b[39m [\u001b[39m*\u001b[39m\u001b[39mself\u001b[39m\u001b[39m.\u001b[39m_get_lines(\u001b[39m*\u001b[39margs, data\u001b[39m=\u001b[39mdata, \u001b[39m*\u001b[39m\u001b[39m*\u001b[39mkwargs)]\n\u001b[1;32m   1689\u001b[0m \u001b[39mfor\u001b[39;00m line \u001b[39min\u001b[39;00m lines:\n\u001b[0;32m-> 1690\u001b[0m     \u001b[39mself\u001b[39;49m\u001b[39m.\u001b[39;49madd_line(line)\n\u001b[1;32m   1691\u001b[0m \u001b[39mif\u001b[39;00m scalex:\n\u001b[1;32m   1692\u001b[0m     \u001b[39mself\u001b[39m\u001b[39m.\u001b[39m_request_autoscale_view(\u001b[39m\"\u001b[39m\u001b[39mx\u001b[39m\u001b[39m\"\u001b[39m)\n",
      "File \u001b[0;32m/usr/local/lib/python3.10/dist-packages/matplotlib/axes/_base.py:2304\u001b[0m, in \u001b[0;36m_AxesBase.add_line\u001b[0;34m(self, line)\u001b[0m\n\u001b[1;32m   2301\u001b[0m \u001b[39mif\u001b[39;00m line\u001b[39m.\u001b[39mget_clip_path() \u001b[39mis\u001b[39;00m \u001b[39mNone\u001b[39;00m:\n\u001b[1;32m   2302\u001b[0m     line\u001b[39m.\u001b[39mset_clip_path(\u001b[39mself\u001b[39m\u001b[39m.\u001b[39mpatch)\n\u001b[0;32m-> 2304\u001b[0m \u001b[39mself\u001b[39;49m\u001b[39m.\u001b[39;49m_update_line_limits(line)\n\u001b[1;32m   2305\u001b[0m \u001b[39mif\u001b[39;00m \u001b[39mnot\u001b[39;00m line\u001b[39m.\u001b[39mget_label():\n\u001b[1;32m   2306\u001b[0m     line\u001b[39m.\u001b[39mset_label(\u001b[39mf\u001b[39m\u001b[39m'\u001b[39m\u001b[39m_child\u001b[39m\u001b[39m{\u001b[39;00m\u001b[39mlen\u001b[39m(\u001b[39mself\u001b[39m\u001b[39m.\u001b[39m_children)\u001b[39m}\u001b[39;00m\u001b[39m'\u001b[39m)\n",
      "File \u001b[0;32m/usr/local/lib/python3.10/dist-packages/matplotlib/axes/_base.py:2327\u001b[0m, in \u001b[0;36m_AxesBase._update_line_limits\u001b[0;34m(self, line)\u001b[0m\n\u001b[1;32m   2323\u001b[0m \u001b[39mdef\u001b[39;00m \u001b[39m_update_line_limits\u001b[39m(\u001b[39mself\u001b[39m, line):\n\u001b[1;32m   2324\u001b[0m \u001b[39m    \u001b[39m\u001b[39m\"\"\"\u001b[39;00m\n\u001b[1;32m   2325\u001b[0m \u001b[39m    Figures out the data limit of the given line, updating self.dataLim.\u001b[39;00m\n\u001b[1;32m   2326\u001b[0m \u001b[39m    \"\"\"\u001b[39;00m\n\u001b[0;32m-> 2327\u001b[0m     path \u001b[39m=\u001b[39m line\u001b[39m.\u001b[39;49mget_path()\n\u001b[1;32m   2328\u001b[0m     \u001b[39mif\u001b[39;00m path\u001b[39m.\u001b[39mvertices\u001b[39m.\u001b[39msize \u001b[39m==\u001b[39m \u001b[39m0\u001b[39m:\n\u001b[1;32m   2329\u001b[0m         \u001b[39mreturn\u001b[39;00m\n",
      "File \u001b[0;32m/usr/local/lib/python3.10/dist-packages/matplotlib/lines.py:1029\u001b[0m, in \u001b[0;36mLine2D.get_path\u001b[0;34m(self)\u001b[0m\n\u001b[1;32m   1027\u001b[0m \u001b[39m\u001b[39m\u001b[39m\"\"\"Return the `~matplotlib.path.Path` associated with this line.\"\"\"\u001b[39;00m\n\u001b[1;32m   1028\u001b[0m \u001b[39mif\u001b[39;00m \u001b[39mself\u001b[39m\u001b[39m.\u001b[39m_invalidy \u001b[39mor\u001b[39;00m \u001b[39mself\u001b[39m\u001b[39m.\u001b[39m_invalidx:\n\u001b[0;32m-> 1029\u001b[0m     \u001b[39mself\u001b[39;49m\u001b[39m.\u001b[39;49mrecache()\n\u001b[1;32m   1030\u001b[0m \u001b[39mreturn\u001b[39;00m \u001b[39mself\u001b[39m\u001b[39m.\u001b[39m_path\n",
      "File \u001b[0;32m/usr/local/lib/python3.10/dist-packages/matplotlib/lines.py:691\u001b[0m, in \u001b[0;36mLine2D.recache\u001b[0;34m(self, always)\u001b[0m\n\u001b[1;32m    689\u001b[0m     interpolation_steps \u001b[39m=\u001b[39m \u001b[39m1\u001b[39m\n\u001b[1;32m    690\u001b[0m xy \u001b[39m=\u001b[39m STEP_LOOKUP_MAP[\u001b[39mself\u001b[39m\u001b[39m.\u001b[39m_drawstyle](\u001b[39m*\u001b[39m\u001b[39mself\u001b[39m\u001b[39m.\u001b[39m_xy\u001b[39m.\u001b[39mT)\n\u001b[0;32m--> 691\u001b[0m \u001b[39mself\u001b[39m\u001b[39m.\u001b[39m_path \u001b[39m=\u001b[39m Path(np\u001b[39m.\u001b[39;49masarray(xy)\u001b[39m.\u001b[39mT,\n\u001b[1;32m    692\u001b[0m                   _interpolation_steps\u001b[39m=\u001b[39minterpolation_steps)\n\u001b[1;32m    693\u001b[0m \u001b[39mself\u001b[39m\u001b[39m.\u001b[39m_transformed_path \u001b[39m=\u001b[39m \u001b[39mNone\u001b[39;00m\n\u001b[1;32m    694\u001b[0m \u001b[39mself\u001b[39m\u001b[39m.\u001b[39m_invalidx \u001b[39m=\u001b[39m \u001b[39mFalse\u001b[39;00m\n",
      "\u001b[0;31mKeyboardInterrupt\u001b[0m: "
     ]
    }
   ],
   "source": [
    "signals, fields = wfdb.rdsamp(records[0][7][0][:-4])\n",
    "wfdb.plot_items(signal=signals, fs=fields['fs'], title='Record p000109-2141-10-21-02-00')\n",
    "display(signals, fields)\n",
    "\n",
    "display(wfdb.rdheader('/root/Workspace/DataLake/mimic-iii_wfdb/p00/p000109/p000109-2141-10-21-02-00').__dict__)\n",
    "display(wfdb.rdheader('/root/Workspace/DataLake/mimic-iii_wfdb/p00/p000109/3034224_layout').__dict__)\n",
    "# record = wfdb.rdrecord(patient_records[7][0])\n",
    "# display(record.__dict__)\n",
    "\n",
    "# pn_dir 를 이용해서 physionet 에 접근하여서 가져올 수도 있다.\n",
    "# test_record2 = wfdb.rdrecord('p000020-2183-04-28-17-47', pn_dir='mimic3wdb/matched/p00/p000020')\n",
    "# test_record2.__dict__"
   ]
  },
  {
   "cell_type": "code",
   "execution_count": null,
   "metadata": {},
   "outputs": [
    {
     "data": {
      "text/plain": [
       "(8561, 12)"
      ]
     },
     "execution_count": 8,
     "metadata": {},
     "output_type": "execute_result"
    }
   ],
   "source": [
    "signals.shape"
   ]
  },
  {
   "cell_type": "code",
   "execution_count": null,
   "metadata": {},
   "outputs": [
    {
     "data": {
      "image/png": "[encoded data removed]",
      "text/plain": [
       "<Figure size 2000x500 with 1 Axes>"
      ]
     },
     "metadata": {},
     "output_type": "display_data"
    }
   ],
   "source": [
    "fig, axs = plt.subplots(1,1, figsize=(20,5))\n",
    "axs.plot(signals[:,-1])\n",
    "# axs.set_xlim(100000,103000)\n",
    "plt.show()"
   ]
  },
  {
   "cell_type": "code",
   "execution_count": null,
   "metadata": {},
   "outputs": [
    {
     "data": {
      "text/plain": [
       "10"
      ]
     },
     "execution_count": 10,
     "metadata": {},
     "output_type": "execute_result"
    }
   ],
   "source": [
    "len(records)"
   ]
  },
  {
   "attachments": {},
   "cell_type": "markdown",
   "metadata": {},
   "source": [
    "#### Save result by Pickle (feat. gzip)"
   ]
  },
  {
   "cell_type": "code",
   "execution_count": 18,
   "metadata": {},
   "outputs": [],
   "source": [
    "# save and compress\n",
    "with gzip.open('/root/Workspace/DataWarehouse/mimic-iii_wfdb/00_all_patient_records.pickle.gzip', 'wb') as f:\n",
    "    pickle.dump(records, f)"
   ]
  },
  {
   "cell_type": "code",
   "execution_count": null,
   "metadata": {},
   "outputs": [],
   "source": []
  }
 ],
 "metadata": {
  "kernelspec": {
   "display_name": "Python 3",
   "language": "python",
   "name": "python3"
  },
  "language_info": {
   "codemirror_mode": {
    "name": "ipython",
    "version": 3
   },
   "file_extension": ".py",
   "mimetype": "text/x-python",
   "name": "python",
   "nbconvert_exporter": "python",
   "pygments_lexer": "ipython3",
   "version": "3.10.12"
  },
  "orig_nbformat": 4,
  "vscode": {
   "interpreter": {
    "hash": "31f2aee4e71d21fbe5cf8b01ff0e069b9275f58929596ceb00d14d90e3e16cd6"
   }
  }
 },
 "nbformat": 4,
 "nbformat_minor": 2
}
