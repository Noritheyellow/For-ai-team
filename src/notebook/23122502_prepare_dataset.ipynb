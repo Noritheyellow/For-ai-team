{
 "cells": [
  {
   "cell_type": "code",
   "execution_count": 1,
   "metadata": {},
   "outputs": [],
   "source": [
    "import gzip\n",
    "import pickle\n",
    "import re\n",
    "\n",
    "SUB_DIRECTORIES = ['p00', 'p01', 'p02', 'p03', 'p04', 'p05', 'p06', 'p07', 'p08', 'p09']\n",
    "SAVE_PATH = '../../DataWarehouse/mimic-iii_wfdb/01_subdir_records'\n",
    "SLICE_TH = 450"
   ]
  },
  {
   "cell_type": "code",
   "execution_count": 2,
   "metadata": {},
   "outputs": [],
   "source": [
    "mimicwfdb_path = '/root/Workspace/DataWarehouse/mimic-iii_wfdb/archive/10_extracted_patient_records.pickle.gzip'\n",
    "with gzip.open(mimicwfdb_path, 'rb') as f:\n",
    "    extracted_records = pickle.load(f)"
   ]
  },
  {
   "cell_type": "code",
   "execution_count": 3,
   "metadata": {},
   "outputs": [
    {
     "name": "stdout",
     "output_type": "stream",
     "text": [
      "A number of records that have PLETH and ABP: 6011\n"
     ]
    }
   ],
   "source": [
    "record_names = [rec['record_name'] for rec in extracted_records]\n",
    "print(f'A number of records that have PLETH and ABP: {len(record_names)}')"
   ]
  },
  {
   "cell_type": "code",
   "execution_count": 4,
   "metadata": {},
   "outputs": [
    {
     "data": {
      "text/plain": [
       "'/root/Workspace/DataLake/mimic-iii_wfdb/p06/p067154/p067154-2138-04-13-17-59.hea'"
      ]
     },
     "execution_count": 4,
     "metadata": {},
     "output_type": "execute_result"
    }
   ],
   "source": [
    "record_names[0]"
   ]
  },
  {
   "cell_type": "code",
   "execution_count": 5,
   "metadata": {},
   "outputs": [
    {
     "name": "stdout",
     "output_type": "stream",
     "text": [
      "272 p00 subdir part 0 records are saved. Ex) /root/Workspace/DataLake/mimic-iii_wfdb/p00/p009128/p009128-2167-03-06-14-37.hea\n",
      "306 p01 subdir part 0 records are saved. Ex) /root/Workspace/DataLake/mimic-iii_wfdb/p01/p016590/p016590-2181-05-26-20-15.hea\n",
      "414 p02 subdir part 0 records are saved. Ex) /root/Workspace/DataLake/mimic-iii_wfdb/p02/p028065/p028065-2200-12-16-15-58.hea\n",
      "187 p03 subdir part 0 records are saved. Ex) /root/Workspace/DataLake/mimic-iii_wfdb/p03/p031633/p031633-2160-04-08-11-31.hea\n",
      "450 p04 subdir part 0 records are saved. Ex) /root/Workspace/DataLake/mimic-iii_wfdb/p04/p043220/p043220-2151-12-28-20-49.hea\n",
      "353 p04 subdir part 1 records are saved. Ex) /root/Workspace/DataLake/mimic-iii_wfdb/p04/p043220/p043220-2151-12-28-20-49.hea\n",
      "450 p05 subdir part 0 records are saved. Ex) /root/Workspace/DataLake/mimic-iii_wfdb/p05/p055122/p055122-2192-03-29-13-30.hea\n",
      "425 p05 subdir part 1 records are saved. Ex) /root/Workspace/DataLake/mimic-iii_wfdb/p05/p055122/p055122-2192-03-29-13-30.hea\n",
      "450 p06 subdir part 0 records are saved. Ex) /root/Workspace/DataLake/mimic-iii_wfdb/p06/p067154/p067154-2138-04-13-17-59.hea\n",
      "391 p06 subdir part 1 records are saved. Ex) /root/Workspace/DataLake/mimic-iii_wfdb/p06/p067154/p067154-2138-04-13-17-59.hea\n",
      "450 p07 subdir part 0 records are saved. Ex) /root/Workspace/DataLake/mimic-iii_wfdb/p07/p073242/p073242-2117-04-10-20-37.hea\n",
      "313 p07 subdir part 1 records are saved. Ex) /root/Workspace/DataLake/mimic-iii_wfdb/p07/p073242/p073242-2117-04-10-20-37.hea\n",
      "450 p08 subdir part 0 records are saved. Ex) /root/Workspace/DataLake/mimic-iii_wfdb/p08/p082418/p082418-2175-09-13-14-29.hea\n",
      "351 p08 subdir part 1 records are saved. Ex) /root/Workspace/DataLake/mimic-iii_wfdb/p08/p082418/p082418-2175-09-13-14-29.hea\n",
      "450 p09 subdir part 0 records are saved. Ex) /root/Workspace/DataLake/mimic-iii_wfdb/p09/p093336/p093336-2119-08-04-09-02.hea\n",
      "299 p09 subdir part 1 records are saved. Ex) /root/Workspace/DataLake/mimic-iii_wfdb/p09/p093336/p093336-2119-08-04-09-02.hea\n"
     ]
    }
   ],
   "source": [
    "for subdir in SUB_DIRECTORIES:\n",
    "    regex = f'[/\\w-]+{subdir}[/\\w-]+.[\\w]+'\n",
    "    dir_classifier = re.compile(regex)\n",
    "    subdir_rec = list(map(lambda x: x.group(),\n",
    "                      filter(lambda x: x is not None, \n",
    "                      map(lambda record_name: dir_classifier.match(record_name), record_names))))\n",
    "    \n",
    "    # save and compress\n",
    "    count = len(subdir_rec)//SLICE_TH\n",
    "    \n",
    "    for i in range(count + 1):\n",
    "        with gzip.open(f'{SAVE_PATH}/11_{subdir}_n{len(subdir_rec)}_part{i}.pickle.gzip', 'wb') as f:\n",
    "            pickle.dump(subdir_rec[SLICE_TH*i:SLICE_TH*(i+1)], f)\n",
    "        print(f'{len(subdir_rec[SLICE_TH*i:SLICE_TH*(i+1)])} {subdir} subdir part {i} records are saved. Ex) {subdir_rec[0]}')"
   ]
  },
  {
   "cell_type": "code",
   "execution_count": 6,
   "metadata": {},
   "outputs": [
    {
     "name": "stdout",
     "output_type": "stream",
     "text": [
      "/root/Workspace/DataLake/mimic-iii_wfdb/p04/p043220/p043220-2151-12-28-20-49.hea\n",
      "450\n"
     ]
    }
   ],
   "source": [
    "mimicwfdb_path = '/root/Workspace/DataWarehouse/mimic-iii_wfdb/01_subdir_records/11_p04_n803_part0.pickle.gzip'\n",
    "with gzip.open(mimicwfdb_path, 'rb') as f:\n",
    "    extracted_records = pickle.load(f)\n",
    "print(extracted_records[0])\n",
    "print(len(extracted_records))"
   ]
  },
  {
   "cell_type": "code",
   "execution_count": null,
   "metadata": {},
   "outputs": [],
   "source": []
  }
 ],
 "metadata": {
  "kernelspec": {
   "display_name": "Python 3",
   "language": "python",
   "name": "python3"
  },
  "language_info": {
   "codemirror_mode": {
    "name": "ipython",
    "version": 3
   },
   "file_extension": ".py",
   "mimetype": "text/x-python",
   "name": "python",
   "nbconvert_exporter": "python",
   "pygments_lexer": "ipython3",
   "version": "3.10.6"
  },
  "orig_nbformat": 4,
  "vscode": {
   "interpreter": {
    "hash": "31f2aee4e71d21fbe5cf8b01ff0e069b9275f58929596ceb00d14d90e3e16cd6"
   }
  }
 },
 "nbformat": 4,
 "nbformat_minor": 2
}
